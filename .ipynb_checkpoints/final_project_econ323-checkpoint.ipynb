{
 "cells": [
  {
   "cell_type": "markdown",
   "id": "81cfdc25-e2b0-46c5-9b9d-cfe4cbf59841",
   "metadata": {
    "tags": []
   },
   "source": [
    "# Analysis of Crime occurence in Vancouver City from 2013 to 2022\n",
    "#### University of British Columbia\n",
    "#### ECON 323-004 2022W2 Final Project \n",
    "\n",
    "Collabrators and Contributions:\n",
    "- Yiming Li(Student number: 52680360): I am accountable for ideating the overarching\n",
    "concept of the project, formulating the research objectives, and leveraging python code\n",
    "to construct and evaluate the time series model.\n",
    "- Pengchao Chen(Student number: 31253933): I contributed to the project by coding and\n",
    "writing content, as well as building and selecting models.\n",
    "- Sawyer Wang(Student number: 63591192): Providing the draft of proposal, searching\n",
    "the datafile and taking the responsibility of cleaning data and representing data.\n",
    "- Zhihao Wu(Student number: 56834187): Writing the introduction and conclusion, helping\n",
    "modify the code and annotate the coding.\n"
   ]
  },
  {
   "cell_type": "markdown",
   "id": "9b766ae5-c6e4-4ab0-a69e-79015487a9c5",
   "metadata": {},
   "source": [
    "### 1. Introduction:"
   ]
  },
  {
   "cell_type": "markdown",
   "id": "e6eb229c-b12e-409b-a1ef-90a5f67ab6e0",
   "metadata": {},
   "source": [
    "### 2. Literature Review:"
   ]
  },
  {
   "cell_type": "markdown",
   "id": "901f1e8b-b76c-40af-89a6-f09b920e25d0",
   "metadata": {},
   "source": [
    "### 3. Data Pre-Processing"
   ]
  },
  {
   "cell_type": "markdown",
   "id": "6dfd0e46-5d6f-47f0-b989-74d1f5f349bf",
   "metadata": {},
   "source": [
    "#### A) Load Dataset"
   ]
  },
  {
   "cell_type": "code",
   "execution_count": 4,
   "id": "37df5a55-bafb-41e0-8c0c-2018866130ef",
   "metadata": {
    "tags": []
   },
   "outputs": [],
   "source": [
    "# Load package\n",
    "import pandas as pd\n",
    "import numpy as np\n",
    "from pyproj import Proj\n",
    "import matplotlib.pyplot as plt\n",
    "import matplotlib.dates as mdates\n",
    "import seaborn as sns\n",
    "import matplotlib.ticker as ticker\n",
    "from sklearn.model_selection import train_test_split\n",
    "from scipy.ndimage import gaussian_filter1d"
   ]
  },
  {
   "cell_type": "code",
   "execution_count": 5,
   "id": "a41bdbf5-7113-40a5-b6cb-6fdce4057639",
   "metadata": {
    "tags": []
   },
   "outputs": [
    {
     "data": {
      "text/html": [
       "<div>\n",
       "<style scoped>\n",
       "    .dataframe tbody tr th:only-of-type {\n",
       "        vertical-align: middle;\n",
       "    }\n",
       "\n",
       "    .dataframe tbody tr th {\n",
       "        vertical-align: top;\n",
       "    }\n",
       "\n",
       "    .dataframe thead th {\n",
       "        text-align: right;\n",
       "    }\n",
       "</style>\n",
       "<table border=\"1\" class=\"dataframe\">\n",
       "  <thead>\n",
       "    <tr style=\"text-align: right;\">\n",
       "      <th></th>\n",
       "      <th>TYPE</th>\n",
       "      <th>YEAR</th>\n",
       "      <th>MONTH</th>\n",
       "      <th>DAY</th>\n",
       "      <th>HOUR</th>\n",
       "      <th>MINUTE</th>\n",
       "      <th>HUNDRED_BLOCK</th>\n",
       "      <th>NEIGHBOURHOOD</th>\n",
       "      <th>X</th>\n",
       "      <th>Y</th>\n",
       "    </tr>\n",
       "  </thead>\n",
       "  <tbody>\n",
       "    <tr>\n",
       "      <th>0</th>\n",
       "      <td>Other Theft</td>\n",
       "      <td>2015</td>\n",
       "      <td>5</td>\n",
       "      <td>7</td>\n",
       "      <td>12</td>\n",
       "      <td>50</td>\n",
       "      <td>7XX DUNSMUIR ST</td>\n",
       "      <td>Central Business District</td>\n",
       "      <td>491511.6366</td>\n",
       "      <td>5.459024e+06</td>\n",
       "    </tr>\n",
       "    <tr>\n",
       "      <th>1</th>\n",
       "      <td>Other Theft</td>\n",
       "      <td>2015</td>\n",
       "      <td>5</td>\n",
       "      <td>13</td>\n",
       "      <td>17</td>\n",
       "      <td>0</td>\n",
       "      <td>7XX DUNSMUIR ST</td>\n",
       "      <td>Central Business District</td>\n",
       "      <td>491511.6366</td>\n",
       "      <td>5.459024e+06</td>\n",
       "    </tr>\n",
       "    <tr>\n",
       "      <th>2</th>\n",
       "      <td>Other Theft</td>\n",
       "      <td>2015</td>\n",
       "      <td>5</td>\n",
       "      <td>16</td>\n",
       "      <td>10</td>\n",
       "      <td>45</td>\n",
       "      <td>7XX DUNSMUIR ST</td>\n",
       "      <td>Central Business District</td>\n",
       "      <td>491511.6366</td>\n",
       "      <td>5.459024e+06</td>\n",
       "    </tr>\n",
       "    <tr>\n",
       "      <th>3</th>\n",
       "      <td>Other Theft</td>\n",
       "      <td>2015</td>\n",
       "      <td>5</td>\n",
       "      <td>17</td>\n",
       "      <td>18</td>\n",
       "      <td>45</td>\n",
       "      <td>7XX DUNSMUIR ST</td>\n",
       "      <td>Central Business District</td>\n",
       "      <td>491511.6366</td>\n",
       "      <td>5.459024e+06</td>\n",
       "    </tr>\n",
       "    <tr>\n",
       "      <th>4</th>\n",
       "      <td>Other Theft</td>\n",
       "      <td>2015</td>\n",
       "      <td>5</td>\n",
       "      <td>18</td>\n",
       "      <td>20</td>\n",
       "      <td>10</td>\n",
       "      <td>7XX DUNSMUIR ST</td>\n",
       "      <td>Central Business District</td>\n",
       "      <td>491511.6366</td>\n",
       "      <td>5.459024e+06</td>\n",
       "    </tr>\n",
       "  </tbody>\n",
       "</table>\n",
       "</div>"
      ],
      "text/plain": [
       "          TYPE  YEAR  MONTH  DAY  HOUR  MINUTE    HUNDRED_BLOCK  \\\n",
       "0  Other Theft  2015      5    7    12      50  7XX DUNSMUIR ST   \n",
       "1  Other Theft  2015      5   13    17       0  7XX DUNSMUIR ST   \n",
       "2  Other Theft  2015      5   16    10      45  7XX DUNSMUIR ST   \n",
       "3  Other Theft  2015      5   17    18      45  7XX DUNSMUIR ST   \n",
       "4  Other Theft  2015      5   18    20      10  7XX DUNSMUIR ST   \n",
       "\n",
       "               NEIGHBOURHOOD            X             Y  \n",
       "0  Central Business District  491511.6366  5.459024e+06  \n",
       "1  Central Business District  491511.6366  5.459024e+06  \n",
       "2  Central Business District  491511.6366  5.459024e+06  \n",
       "3  Central Business District  491511.6366  5.459024e+06  \n",
       "4  Central Business District  491511.6366  5.459024e+06  "
      ]
     },
     "execution_count": 5,
     "metadata": {},
     "output_type": "execute_result"
    }
   ],
   "source": [
    "# Load dataset\n",
    "df_original = pd.read_csv('crimedata_csv_AllNeighbourhoods_AllYears.csv')\n",
    "df_original.head()"
   ]
  },
  {
   "cell_type": "code",
   "execution_count": 6,
   "id": "9451cf49-8776-474b-b71a-7b315a9647d3",
   "metadata": {
    "tags": []
   },
   "outputs": [
    {
     "name": "stdout",
     "output_type": "stream",
     "text": [
      "<class 'pandas.core.frame.DataFrame'>\n",
      "RangeIndex: 857259 entries, 0 to 857258\n",
      "Data columns (total 10 columns):\n",
      " #   Column         Non-Null Count   Dtype  \n",
      "---  ------         --------------   -----  \n",
      " 0   TYPE           857259 non-null  object \n",
      " 1   YEAR           857259 non-null  int64  \n",
      " 2   MONTH          857259 non-null  int64  \n",
      " 3   DAY            857259 non-null  int64  \n",
      " 4   HOUR           857259 non-null  int64  \n",
      " 5   MINUTE         857259 non-null  int64  \n",
      " 6   HUNDRED_BLOCK  857247 non-null  object \n",
      " 7   NEIGHBOURHOOD  857116 non-null  object \n",
      " 8   X              857186 non-null  float64\n",
      " 9   Y              857186 non-null  float64\n",
      "dtypes: float64(2), int64(5), object(3)\n",
      "memory usage: 65.4+ MB\n"
     ]
    }
   ],
   "source": [
    "# Print out the column names, their data types, and count of non-NA values\n",
    "df_original.info()"
   ]
  },
  {
   "cell_type": "code",
   "execution_count": 7,
   "id": "9b118465-e515-41c9-aca2-c025b45f8afd",
   "metadata": {
    "tags": []
   },
   "outputs": [
    {
     "data": {
      "text/plain": [
       "True"
      ]
     },
     "execution_count": 7,
     "metadata": {},
     "output_type": "execute_result"
    }
   ],
   "source": [
    "# Check if the dataset contains any missing value\n",
    "df_original.isnull().values.any()"
   ]
  },
  {
   "cell_type": "code",
   "execution_count": 8,
   "id": "2176c830-ad19-4ca2-b483-2c6b39b635e5",
   "metadata": {
    "tags": []
   },
   "outputs": [
    {
     "data": {
      "text/plain": [
       "TYPE               0\n",
       "YEAR               0\n",
       "MONTH              0\n",
       "DAY                0\n",
       "HOUR               0\n",
       "MINUTE             0\n",
       "HUNDRED_BLOCK     12\n",
       "NEIGHBOURHOOD    143\n",
       "X                 73\n",
       "Y                 73\n",
       "dtype: int64"
      ]
     },
     "execution_count": 8,
     "metadata": {},
     "output_type": "execute_result"
    }
   ],
   "source": [
    "# Count the number of missing values for each column\n",
    "df_original.isnull().sum()"
   ]
  },
  {
   "cell_type": "markdown",
   "id": "2611f350-e828-4d6c-8815-7b456a006f44",
   "metadata": {},
   "source": [
    "#### B) Data Wrangling"
   ]
  },
  {
   "cell_type": "code",
   "execution_count": 9,
   "id": "c5bbfb4e-c10f-4b16-b6c4-e14879c88fb8",
   "metadata": {
    "tags": []
   },
   "outputs": [
    {
     "data": {
      "text/plain": [
       "False"
      ]
     },
     "execution_count": 9,
     "metadata": {},
     "output_type": "execute_result"
    }
   ],
   "source": [
    "# Drop the rows of missing values and check again if the dataset still contains missing value\n",
    "df_new = df_original.dropna()\n",
    "df_new.isnull().values.any()"
   ]
  },
  {
   "cell_type": "code",
   "execution_count": 10,
   "id": "8af1565b-7d1a-4131-a896-f3e9b3b57ba0",
   "metadata": {
    "tags": []
   },
   "outputs": [],
   "source": [
    "# Drop Day, Hour, Minute columns\n",
    "df = df_new.drop(columns=['DAY','HOUR','MINUTE'])                       "
   ]
  },
  {
   "cell_type": "code",
   "execution_count": 11,
   "id": "109a069a-f333-4c22-8ea5-fe0031a69f8a",
   "metadata": {
    "tags": []
   },
   "outputs": [
    {
     "data": {
      "text/html": [
       "<div>\n",
       "<style scoped>\n",
       "    .dataframe tbody tr th:only-of-type {\n",
       "        vertical-align: middle;\n",
       "    }\n",
       "\n",
       "    .dataframe tbody tr th {\n",
       "        vertical-align: top;\n",
       "    }\n",
       "\n",
       "    .dataframe thead th {\n",
       "        text-align: right;\n",
       "    }\n",
       "</style>\n",
       "<table border=\"1\" class=\"dataframe\">\n",
       "  <thead>\n",
       "    <tr style=\"text-align: right;\">\n",
       "      <th></th>\n",
       "      <th>TYPE</th>\n",
       "      <th>YEAR</th>\n",
       "      <th>MONTH</th>\n",
       "      <th>HUNDRED_BLOCK</th>\n",
       "      <th>NEIGHBOURHOOD</th>\n",
       "      <th>LATITUDE</th>\n",
       "      <th>LONGITUDE</th>\n",
       "      <th>COORDINATES</th>\n",
       "    </tr>\n",
       "  </thead>\n",
       "  <tbody>\n",
       "    <tr>\n",
       "      <th>0</th>\n",
       "      <td>Other Theft</td>\n",
       "      <td>2015</td>\n",
       "      <td>5</td>\n",
       "      <td>7XX DUNSMUIR ST</td>\n",
       "      <td>Central Business District</td>\n",
       "      <td>49.283907</td>\n",
       "      <td>-123.116717</td>\n",
       "      <td>(49.28390671503418, -123.11671721220546)</td>\n",
       "    </tr>\n",
       "    <tr>\n",
       "      <th>1</th>\n",
       "      <td>Other Theft</td>\n",
       "      <td>2015</td>\n",
       "      <td>5</td>\n",
       "      <td>7XX DUNSMUIR ST</td>\n",
       "      <td>Central Business District</td>\n",
       "      <td>49.283907</td>\n",
       "      <td>-123.116717</td>\n",
       "      <td>(49.28390671503418, -123.11671721220546)</td>\n",
       "    </tr>\n",
       "    <tr>\n",
       "      <th>2</th>\n",
       "      <td>Other Theft</td>\n",
       "      <td>2015</td>\n",
       "      <td>5</td>\n",
       "      <td>7XX DUNSMUIR ST</td>\n",
       "      <td>Central Business District</td>\n",
       "      <td>49.283907</td>\n",
       "      <td>-123.116717</td>\n",
       "      <td>(49.28390671503418, -123.11671721220546)</td>\n",
       "    </tr>\n",
       "    <tr>\n",
       "      <th>3</th>\n",
       "      <td>Other Theft</td>\n",
       "      <td>2015</td>\n",
       "      <td>5</td>\n",
       "      <td>7XX DUNSMUIR ST</td>\n",
       "      <td>Central Business District</td>\n",
       "      <td>49.283907</td>\n",
       "      <td>-123.116717</td>\n",
       "      <td>(49.28390671503418, -123.11671721220546)</td>\n",
       "    </tr>\n",
       "    <tr>\n",
       "      <th>4</th>\n",
       "      <td>Other Theft</td>\n",
       "      <td>2015</td>\n",
       "      <td>5</td>\n",
       "      <td>7XX DUNSMUIR ST</td>\n",
       "      <td>Central Business District</td>\n",
       "      <td>49.283907</td>\n",
       "      <td>-123.116717</td>\n",
       "      <td>(49.28390671503418, -123.11671721220546)</td>\n",
       "    </tr>\n",
       "  </tbody>\n",
       "</table>\n",
       "</div>"
      ],
      "text/plain": [
       "          TYPE  YEAR  MONTH    HUNDRED_BLOCK              NEIGHBOURHOOD  \\\n",
       "0  Other Theft  2015      5  7XX DUNSMUIR ST  Central Business District   \n",
       "1  Other Theft  2015      5  7XX DUNSMUIR ST  Central Business District   \n",
       "2  Other Theft  2015      5  7XX DUNSMUIR ST  Central Business District   \n",
       "3  Other Theft  2015      5  7XX DUNSMUIR ST  Central Business District   \n",
       "4  Other Theft  2015      5  7XX DUNSMUIR ST  Central Business District   \n",
       "\n",
       "    LATITUDE   LONGITUDE                               COORDINATES  \n",
       "0  49.283907 -123.116717  (49.28390671503418, -123.11671721220546)  \n",
       "1  49.283907 -123.116717  (49.28390671503418, -123.11671721220546)  \n",
       "2  49.283907 -123.116717  (49.28390671503418, -123.11671721220546)  \n",
       "3  49.283907 -123.116717  (49.28390671503418, -123.11671721220546)  \n",
       "4  49.283907 -123.116717  (49.28390671503418, -123.11671721220546)  "
      ]
     },
     "execution_count": 11,
     "metadata": {},
     "output_type": "execute_result"
    }
   ],
   "source": [
    "# Convet UTM zone 10 coordinates in columns \"X\" and \"Y\" to latitute and longitude\n",
    "myProj = Proj(proj='utm',zone=10,ellps='WGS84', preserve_units=False)\n",
    "LONGITUDE, LATITUDE= myProj(df['X'].values, df['Y'].values, inverse=True)\n",
    "df[\"LATITUDE\"] = LATITUDE\n",
    "df[\"LONGITUDE\"] = LONGITUDE\n",
    "\n",
    "# Drop \"X\" and \"Y\" Columns\n",
    "df = df.drop(columns=['X', 'Y'])\n",
    "\n",
    "# Create a new column \"Coordinates\" to zip the latitude and longtitude together\n",
    "df[\"COORDINATES\"] = list(zip(df.LATITUDE, df.LONGITUDE))\n",
    "df.head()"
   ]
  },
  {
   "cell_type": "code",
   "execution_count": 12,
   "id": "fbd53eee-a6ed-4180-9f40-9b180c63e719",
   "metadata": {
    "tags": []
   },
   "outputs": [],
   "source": [
    "# Create a list of tuples containing the neighborhood and its corresponding area(East, West, Central)\n",
    "neighborhoods = [\n",
    "    ('Arbutus Ridge', 'West'),\n",
    "    ('Dunbar-Southlands', 'West'),\n",
    "    ('Kerrisdale', 'West'),\n",
    "    ('Kitsilano', 'West'),\n",
    "    ('Marpole', 'West'),\n",
    "    ('West Point Grey', 'West'),\n",
    "    ('Central Business District', 'Central'),\n",
    "    ('Fairview', 'Central'),\n",
    "    ('Oakridge', 'Central'),\n",
    "    ('Shaughnessy', 'Central'),\n",
    "    ('South Cambie', 'Central'),\n",
    "    ('Stanley Park', 'Central'),\n",
    "    ('West End', 'Central'),\n",
    "    ('Grandview-Woodland', 'East'),\n",
    "    ('Hastings-Sunrise', 'East'),\n",
    "    ('Kensington-Cedar Cottage', 'East'),\n",
    "    ('Killarney', 'East'),\n",
    "    ('Mount Pleasant', 'East'),\n",
    "    ('Musqueam', 'East'),\n",
    "    ('Renfrew-Collingwood', 'East'),\n",
    "    ('Riley Park', 'East'),\n",
    "    ('Strathcona', 'East'),\n",
    "    ('Sunset', 'East'),\n",
    "    ('Victoria-Fraserview', 'East')\n",
    "]"
   ]
  },
  {
   "cell_type": "code",
   "execution_count": 13,
   "id": "036d9476-372a-41a1-bdf4-e3e56920c412",
   "metadata": {
    "tags": []
   },
   "outputs": [
    {
     "data": {
      "text/html": [
       "<div>\n",
       "<style scoped>\n",
       "    .dataframe tbody tr th:only-of-type {\n",
       "        vertical-align: middle;\n",
       "    }\n",
       "\n",
       "    .dataframe tbody tr th {\n",
       "        vertical-align: top;\n",
       "    }\n",
       "\n",
       "    .dataframe thead th {\n",
       "        text-align: right;\n",
       "    }\n",
       "</style>\n",
       "<table border=\"1\" class=\"dataframe\">\n",
       "  <thead>\n",
       "    <tr style=\"text-align: right;\">\n",
       "      <th></th>\n",
       "      <th>TYPE</th>\n",
       "      <th>YEAR</th>\n",
       "      <th>MONTH</th>\n",
       "      <th>HUNDRED_BLOCK</th>\n",
       "      <th>NEIGHBOURHOOD</th>\n",
       "      <th>LATITUDE</th>\n",
       "      <th>LONGITUDE</th>\n",
       "      <th>COORDINATES</th>\n",
       "      <th>AREA</th>\n",
       "    </tr>\n",
       "  </thead>\n",
       "  <tbody>\n",
       "    <tr>\n",
       "      <th>0</th>\n",
       "      <td>Other Theft</td>\n",
       "      <td>2015</td>\n",
       "      <td>5</td>\n",
       "      <td>7XX DUNSMUIR ST</td>\n",
       "      <td>Central Business District</td>\n",
       "      <td>49.283907</td>\n",
       "      <td>-123.116717</td>\n",
       "      <td>(49.28390671503418, -123.11671721220546)</td>\n",
       "      <td>Central</td>\n",
       "    </tr>\n",
       "    <tr>\n",
       "      <th>1</th>\n",
       "      <td>Other Theft</td>\n",
       "      <td>2015</td>\n",
       "      <td>5</td>\n",
       "      <td>7XX DUNSMUIR ST</td>\n",
       "      <td>Central Business District</td>\n",
       "      <td>49.283907</td>\n",
       "      <td>-123.116717</td>\n",
       "      <td>(49.28390671503418, -123.11671721220546)</td>\n",
       "      <td>Central</td>\n",
       "    </tr>\n",
       "    <tr>\n",
       "      <th>2</th>\n",
       "      <td>Other Theft</td>\n",
       "      <td>2015</td>\n",
       "      <td>5</td>\n",
       "      <td>7XX DUNSMUIR ST</td>\n",
       "      <td>Central Business District</td>\n",
       "      <td>49.283907</td>\n",
       "      <td>-123.116717</td>\n",
       "      <td>(49.28390671503418, -123.11671721220546)</td>\n",
       "      <td>Central</td>\n",
       "    </tr>\n",
       "    <tr>\n",
       "      <th>3</th>\n",
       "      <td>Other Theft</td>\n",
       "      <td>2015</td>\n",
       "      <td>5</td>\n",
       "      <td>7XX DUNSMUIR ST</td>\n",
       "      <td>Central Business District</td>\n",
       "      <td>49.283907</td>\n",
       "      <td>-123.116717</td>\n",
       "      <td>(49.28390671503418, -123.11671721220546)</td>\n",
       "      <td>Central</td>\n",
       "    </tr>\n",
       "    <tr>\n",
       "      <th>4</th>\n",
       "      <td>Other Theft</td>\n",
       "      <td>2015</td>\n",
       "      <td>5</td>\n",
       "      <td>7XX DUNSMUIR ST</td>\n",
       "      <td>Central Business District</td>\n",
       "      <td>49.283907</td>\n",
       "      <td>-123.116717</td>\n",
       "      <td>(49.28390671503418, -123.11671721220546)</td>\n",
       "      <td>Central</td>\n",
       "    </tr>\n",
       "  </tbody>\n",
       "</table>\n",
       "</div>"
      ],
      "text/plain": [
       "          TYPE  YEAR  MONTH    HUNDRED_BLOCK              NEIGHBOURHOOD  \\\n",
       "0  Other Theft  2015      5  7XX DUNSMUIR ST  Central Business District   \n",
       "1  Other Theft  2015      5  7XX DUNSMUIR ST  Central Business District   \n",
       "2  Other Theft  2015      5  7XX DUNSMUIR ST  Central Business District   \n",
       "3  Other Theft  2015      5  7XX DUNSMUIR ST  Central Business District   \n",
       "4  Other Theft  2015      5  7XX DUNSMUIR ST  Central Business District   \n",
       "\n",
       "    LATITUDE   LONGITUDE                               COORDINATES     AREA  \n",
       "0  49.283907 -123.116717  (49.28390671503418, -123.11671721220546)  Central  \n",
       "1  49.283907 -123.116717  (49.28390671503418, -123.11671721220546)  Central  \n",
       "2  49.283907 -123.116717  (49.28390671503418, -123.11671721220546)  Central  \n",
       "3  49.283907 -123.116717  (49.28390671503418, -123.11671721220546)  Central  \n",
       "4  49.283907 -123.116717  (49.28390671503418, -123.11671721220546)  Central  "
      ]
     },
     "execution_count": 13,
     "metadata": {},
     "output_type": "execute_result"
    }
   ],
   "source": [
    "# Create a dictionary to store the neighborhoods by area\n",
    "neighborhoods_by_area = {}\n",
    "\n",
    "# Loop through the list of tuples and add neighborhoods to the new dictionary\n",
    "for neighborhood, area in neighborhoods:\n",
    "    neighborhoods_by_area[neighborhood] = area\n",
    "\n",
    "# Replace neighborhood names with area names\n",
    "df['AREA'] = df['NEIGHBOURHOOD'].map(neighborhoods_by_area)\n",
    "\n",
    "# Select 11 Year from the whole data frame\n",
    "df_12 = df[df[\"YEAR\"] > 2011]\n",
    "df_12_22 = df_12[df_12[\"YEAR\"] < 2023]\n",
    "\n",
    "# Show the clean data\n",
    "df_12_22.head()"
   ]
  },
  {
   "cell_type": "code",
   "execution_count": 14,
   "id": "201e277f-d330-46da-9d94-5b9fbe2c1d1c",
   "metadata": {
    "tags": []
   },
   "outputs": [
    {
     "data": {
      "text/html": [
       "<div>\n",
       "<style scoped>\n",
       "    .dataframe tbody tr th:only-of-type {\n",
       "        vertical-align: middle;\n",
       "    }\n",
       "\n",
       "    .dataframe tbody tr th {\n",
       "        vertical-align: top;\n",
       "    }\n",
       "\n",
       "    .dataframe thead th {\n",
       "        text-align: right;\n",
       "    }\n",
       "</style>\n",
       "<table border=\"1\" class=\"dataframe\">\n",
       "  <thead>\n",
       "    <tr style=\"text-align: right;\">\n",
       "      <th></th>\n",
       "      <th>TYPE</th>\n",
       "      <th>YEAR</th>\n",
       "      <th>MONTH</th>\n",
       "      <th>AREA</th>\n",
       "      <th>COUNT</th>\n",
       "    </tr>\n",
       "  </thead>\n",
       "  <tbody>\n",
       "    <tr>\n",
       "      <th>0</th>\n",
       "      <td>Break and Enter Commercial</td>\n",
       "      <td>2012</td>\n",
       "      <td>1</td>\n",
       "      <td>Central</td>\n",
       "      <td>96</td>\n",
       "    </tr>\n",
       "    <tr>\n",
       "      <th>1</th>\n",
       "      <td>Break and Enter Commercial</td>\n",
       "      <td>2012</td>\n",
       "      <td>1</td>\n",
       "      <td>East</td>\n",
       "      <td>52</td>\n",
       "    </tr>\n",
       "    <tr>\n",
       "      <th>2</th>\n",
       "      <td>Break and Enter Commercial</td>\n",
       "      <td>2012</td>\n",
       "      <td>1</td>\n",
       "      <td>West</td>\n",
       "      <td>8</td>\n",
       "    </tr>\n",
       "    <tr>\n",
       "      <th>3</th>\n",
       "      <td>Break and Enter Commercial</td>\n",
       "      <td>2012</td>\n",
       "      <td>2</td>\n",
       "      <td>Central</td>\n",
       "      <td>61</td>\n",
       "    </tr>\n",
       "    <tr>\n",
       "      <th>4</th>\n",
       "      <td>Break and Enter Commercial</td>\n",
       "      <td>2012</td>\n",
       "      <td>2</td>\n",
       "      <td>East</td>\n",
       "      <td>38</td>\n",
       "    </tr>\n",
       "    <tr>\n",
       "      <th>5</th>\n",
       "      <td>Break and Enter Commercial</td>\n",
       "      <td>2012</td>\n",
       "      <td>2</td>\n",
       "      <td>West</td>\n",
       "      <td>19</td>\n",
       "    </tr>\n",
       "    <tr>\n",
       "      <th>6</th>\n",
       "      <td>Break and Enter Commercial</td>\n",
       "      <td>2012</td>\n",
       "      <td>3</td>\n",
       "      <td>Central</td>\n",
       "      <td>77</td>\n",
       "    </tr>\n",
       "    <tr>\n",
       "      <th>7</th>\n",
       "      <td>Break and Enter Commercial</td>\n",
       "      <td>2012</td>\n",
       "      <td>3</td>\n",
       "      <td>East</td>\n",
       "      <td>73</td>\n",
       "    </tr>\n",
       "    <tr>\n",
       "      <th>8</th>\n",
       "      <td>Break and Enter Commercial</td>\n",
       "      <td>2012</td>\n",
       "      <td>3</td>\n",
       "      <td>West</td>\n",
       "      <td>15</td>\n",
       "    </tr>\n",
       "    <tr>\n",
       "      <th>9</th>\n",
       "      <td>Break and Enter Commercial</td>\n",
       "      <td>2012</td>\n",
       "      <td>4</td>\n",
       "      <td>Central</td>\n",
       "      <td>71</td>\n",
       "    </tr>\n",
       "    <tr>\n",
       "      <th>10</th>\n",
       "      <td>Break and Enter Commercial</td>\n",
       "      <td>2012</td>\n",
       "      <td>4</td>\n",
       "      <td>East</td>\n",
       "      <td>70</td>\n",
       "    </tr>\n",
       "    <tr>\n",
       "      <th>11</th>\n",
       "      <td>Break and Enter Commercial</td>\n",
       "      <td>2012</td>\n",
       "      <td>4</td>\n",
       "      <td>West</td>\n",
       "      <td>14</td>\n",
       "    </tr>\n",
       "    <tr>\n",
       "      <th>12</th>\n",
       "      <td>Break and Enter Commercial</td>\n",
       "      <td>2012</td>\n",
       "      <td>5</td>\n",
       "      <td>Central</td>\n",
       "      <td>66</td>\n",
       "    </tr>\n",
       "    <tr>\n",
       "      <th>13</th>\n",
       "      <td>Break and Enter Commercial</td>\n",
       "      <td>2012</td>\n",
       "      <td>5</td>\n",
       "      <td>East</td>\n",
       "      <td>60</td>\n",
       "    </tr>\n",
       "    <tr>\n",
       "      <th>14</th>\n",
       "      <td>Break and Enter Commercial</td>\n",
       "      <td>2012</td>\n",
       "      <td>5</td>\n",
       "      <td>West</td>\n",
       "      <td>7</td>\n",
       "    </tr>\n",
       "    <tr>\n",
       "      <th>15</th>\n",
       "      <td>Break and Enter Commercial</td>\n",
       "      <td>2012</td>\n",
       "      <td>6</td>\n",
       "      <td>Central</td>\n",
       "      <td>66</td>\n",
       "    </tr>\n",
       "    <tr>\n",
       "      <th>16</th>\n",
       "      <td>Break and Enter Commercial</td>\n",
       "      <td>2012</td>\n",
       "      <td>6</td>\n",
       "      <td>East</td>\n",
       "      <td>54</td>\n",
       "    </tr>\n",
       "    <tr>\n",
       "      <th>17</th>\n",
       "      <td>Break and Enter Commercial</td>\n",
       "      <td>2012</td>\n",
       "      <td>6</td>\n",
       "      <td>West</td>\n",
       "      <td>16</td>\n",
       "    </tr>\n",
       "    <tr>\n",
       "      <th>18</th>\n",
       "      <td>Break and Enter Commercial</td>\n",
       "      <td>2012</td>\n",
       "      <td>7</td>\n",
       "      <td>Central</td>\n",
       "      <td>39</td>\n",
       "    </tr>\n",
       "    <tr>\n",
       "      <th>19</th>\n",
       "      <td>Break and Enter Commercial</td>\n",
       "      <td>2012</td>\n",
       "      <td>7</td>\n",
       "      <td>East</td>\n",
       "      <td>48</td>\n",
       "    </tr>\n",
       "    <tr>\n",
       "      <th>20</th>\n",
       "      <td>Break and Enter Commercial</td>\n",
       "      <td>2012</td>\n",
       "      <td>7</td>\n",
       "      <td>West</td>\n",
       "      <td>18</td>\n",
       "    </tr>\n",
       "    <tr>\n",
       "      <th>21</th>\n",
       "      <td>Break and Enter Commercial</td>\n",
       "      <td>2012</td>\n",
       "      <td>8</td>\n",
       "      <td>Central</td>\n",
       "      <td>46</td>\n",
       "    </tr>\n",
       "    <tr>\n",
       "      <th>22</th>\n",
       "      <td>Break and Enter Commercial</td>\n",
       "      <td>2012</td>\n",
       "      <td>8</td>\n",
       "      <td>East</td>\n",
       "      <td>54</td>\n",
       "    </tr>\n",
       "    <tr>\n",
       "      <th>23</th>\n",
       "      <td>Break and Enter Commercial</td>\n",
       "      <td>2012</td>\n",
       "      <td>8</td>\n",
       "      <td>West</td>\n",
       "      <td>14</td>\n",
       "    </tr>\n",
       "    <tr>\n",
       "      <th>24</th>\n",
       "      <td>Break and Enter Commercial</td>\n",
       "      <td>2012</td>\n",
       "      <td>9</td>\n",
       "      <td>Central</td>\n",
       "      <td>43</td>\n",
       "    </tr>\n",
       "    <tr>\n",
       "      <th>25</th>\n",
       "      <td>Break and Enter Commercial</td>\n",
       "      <td>2012</td>\n",
       "      <td>9</td>\n",
       "      <td>East</td>\n",
       "      <td>53</td>\n",
       "    </tr>\n",
       "    <tr>\n",
       "      <th>26</th>\n",
       "      <td>Break and Enter Commercial</td>\n",
       "      <td>2012</td>\n",
       "      <td>9</td>\n",
       "      <td>West</td>\n",
       "      <td>26</td>\n",
       "    </tr>\n",
       "    <tr>\n",
       "      <th>27</th>\n",
       "      <td>Break and Enter Commercial</td>\n",
       "      <td>2012</td>\n",
       "      <td>10</td>\n",
       "      <td>Central</td>\n",
       "      <td>65</td>\n",
       "    </tr>\n",
       "    <tr>\n",
       "      <th>28</th>\n",
       "      <td>Break and Enter Commercial</td>\n",
       "      <td>2012</td>\n",
       "      <td>10</td>\n",
       "      <td>East</td>\n",
       "      <td>63</td>\n",
       "    </tr>\n",
       "    <tr>\n",
       "      <th>29</th>\n",
       "      <td>Break and Enter Commercial</td>\n",
       "      <td>2012</td>\n",
       "      <td>10</td>\n",
       "      <td>West</td>\n",
       "      <td>17</td>\n",
       "    </tr>\n",
       "    <tr>\n",
       "      <th>30</th>\n",
       "      <td>Break and Enter Commercial</td>\n",
       "      <td>2012</td>\n",
       "      <td>11</td>\n",
       "      <td>Central</td>\n",
       "      <td>79</td>\n",
       "    </tr>\n",
       "    <tr>\n",
       "      <th>31</th>\n",
       "      <td>Break and Enter Commercial</td>\n",
       "      <td>2012</td>\n",
       "      <td>11</td>\n",
       "      <td>East</td>\n",
       "      <td>76</td>\n",
       "    </tr>\n",
       "    <tr>\n",
       "      <th>32</th>\n",
       "      <td>Break and Enter Commercial</td>\n",
       "      <td>2012</td>\n",
       "      <td>11</td>\n",
       "      <td>West</td>\n",
       "      <td>17</td>\n",
       "    </tr>\n",
       "    <tr>\n",
       "      <th>33</th>\n",
       "      <td>Break and Enter Commercial</td>\n",
       "      <td>2012</td>\n",
       "      <td>12</td>\n",
       "      <td>Central</td>\n",
       "      <td>73</td>\n",
       "    </tr>\n",
       "    <tr>\n",
       "      <th>34</th>\n",
       "      <td>Break and Enter Commercial</td>\n",
       "      <td>2012</td>\n",
       "      <td>12</td>\n",
       "      <td>East</td>\n",
       "      <td>71</td>\n",
       "    </tr>\n",
       "    <tr>\n",
       "      <th>35</th>\n",
       "      <td>Break and Enter Commercial</td>\n",
       "      <td>2012</td>\n",
       "      <td>12</td>\n",
       "      <td>West</td>\n",
       "      <td>21</td>\n",
       "    </tr>\n",
       "    <tr>\n",
       "      <th>36</th>\n",
       "      <td>Break and Enter Commercial</td>\n",
       "      <td>2013</td>\n",
       "      <td>1</td>\n",
       "      <td>Central</td>\n",
       "      <td>72</td>\n",
       "    </tr>\n",
       "    <tr>\n",
       "      <th>37</th>\n",
       "      <td>Break and Enter Commercial</td>\n",
       "      <td>2013</td>\n",
       "      <td>1</td>\n",
       "      <td>East</td>\n",
       "      <td>47</td>\n",
       "    </tr>\n",
       "    <tr>\n",
       "      <th>38</th>\n",
       "      <td>Break and Enter Commercial</td>\n",
       "      <td>2013</td>\n",
       "      <td>1</td>\n",
       "      <td>West</td>\n",
       "      <td>17</td>\n",
       "    </tr>\n",
       "    <tr>\n",
       "      <th>39</th>\n",
       "      <td>Break and Enter Commercial</td>\n",
       "      <td>2013</td>\n",
       "      <td>2</td>\n",
       "      <td>Central</td>\n",
       "      <td>53</td>\n",
       "    </tr>\n",
       "  </tbody>\n",
       "</table>\n",
       "</div>"
      ],
      "text/plain": [
       "                          TYPE  YEAR  MONTH     AREA  COUNT\n",
       "0   Break and Enter Commercial  2012      1  Central     96\n",
       "1   Break and Enter Commercial  2012      1     East     52\n",
       "2   Break and Enter Commercial  2012      1     West      8\n",
       "3   Break and Enter Commercial  2012      2  Central     61\n",
       "4   Break and Enter Commercial  2012      2     East     38\n",
       "5   Break and Enter Commercial  2012      2     West     19\n",
       "6   Break and Enter Commercial  2012      3  Central     77\n",
       "7   Break and Enter Commercial  2012      3     East     73\n",
       "8   Break and Enter Commercial  2012      3     West     15\n",
       "9   Break and Enter Commercial  2012      4  Central     71\n",
       "10  Break and Enter Commercial  2012      4     East     70\n",
       "11  Break and Enter Commercial  2012      4     West     14\n",
       "12  Break and Enter Commercial  2012      5  Central     66\n",
       "13  Break and Enter Commercial  2012      5     East     60\n",
       "14  Break and Enter Commercial  2012      5     West      7\n",
       "15  Break and Enter Commercial  2012      6  Central     66\n",
       "16  Break and Enter Commercial  2012      6     East     54\n",
       "17  Break and Enter Commercial  2012      6     West     16\n",
       "18  Break and Enter Commercial  2012      7  Central     39\n",
       "19  Break and Enter Commercial  2012      7     East     48\n",
       "20  Break and Enter Commercial  2012      7     West     18\n",
       "21  Break and Enter Commercial  2012      8  Central     46\n",
       "22  Break and Enter Commercial  2012      8     East     54\n",
       "23  Break and Enter Commercial  2012      8     West     14\n",
       "24  Break and Enter Commercial  2012      9  Central     43\n",
       "25  Break and Enter Commercial  2012      9     East     53\n",
       "26  Break and Enter Commercial  2012      9     West     26\n",
       "27  Break and Enter Commercial  2012     10  Central     65\n",
       "28  Break and Enter Commercial  2012     10     East     63\n",
       "29  Break and Enter Commercial  2012     10     West     17\n",
       "30  Break and Enter Commercial  2012     11  Central     79\n",
       "31  Break and Enter Commercial  2012     11     East     76\n",
       "32  Break and Enter Commercial  2012     11     West     17\n",
       "33  Break and Enter Commercial  2012     12  Central     73\n",
       "34  Break and Enter Commercial  2012     12     East     71\n",
       "35  Break and Enter Commercial  2012     12     West     21\n",
       "36  Break and Enter Commercial  2013      1  Central     72\n",
       "37  Break and Enter Commercial  2013      1     East     47\n",
       "38  Break and Enter Commercial  2013      1     West     17\n",
       "39  Break and Enter Commercial  2013      2  Central     53"
      ]
     },
     "execution_count": 14,
     "metadata": {},
     "output_type": "execute_result"
    }
   ],
   "source": [
    "# Sum different crime cases in each month\n",
    "df_new = df_12_22.groupby(['TYPE', 'YEAR', 'MONTH', 'AREA']).size().reset_index(name='COUNT')\n",
    "\n",
    "df_new.head(40)"
   ]
  },
  {
   "cell_type": "markdown",
   "id": "f7f26cdc-4d79-4b28-b351-a9db2ad845c2",
   "metadata": {
    "tags": []
   },
   "source": [
    "## Seperate into Three data frame by area"
   ]
  },
  {
   "cell_type": "code",
   "execution_count": 15,
   "id": "b41055b9-d7e4-4199-90e2-1542d986ddf6",
   "metadata": {
    "tags": []
   },
   "outputs": [],
   "source": [
    "# Combine the year and month, and make it to a new column\n",
    "df_new = df_new.reset_index(drop = True)\n",
    "df_new['DATE'] = df_new['YEAR'].astype(str) + '-' + df_new['MONTH'].astype(str)\n",
    "\n",
    "# Set date to index\n",
    "df_new = df_new.set_index('DATE')\n",
    "\n",
    "# Central\n",
    "df_central = df_new[df_new['AREA'] == \"Central\"]\n",
    "# East\n",
    "df_east = df_new[df_new[\"AREA\"] == \"East\"]\n",
    "# West\n",
    "df_west = df_new[df_new[\"AREA\"] == \"West\"]"
   ]
  },
  {
   "cell_type": "markdown",
   "id": "8d284b6e-9324-4f05-a14c-ff2e874086c4",
   "metadata": {
    "tags": []
   },
   "source": [
    "### West"
   ]
  },
  {
   "cell_type": "code",
   "execution_count": 16,
   "id": "87a33aca-9ad7-4d54-ad90-544d068d4de0",
   "metadata": {
    "tags": []
   },
   "outputs": [
    {
     "data": {
      "text/html": [
       "<div>\n",
       "<style scoped>\n",
       "    .dataframe tbody tr th:only-of-type {\n",
       "        vertical-align: middle;\n",
       "    }\n",
       "\n",
       "    .dataframe tbody tr th {\n",
       "        vertical-align: top;\n",
       "    }\n",
       "\n",
       "    .dataframe thead th {\n",
       "        text-align: right;\n",
       "    }\n",
       "</style>\n",
       "<table border=\"1\" class=\"dataframe\">\n",
       "  <thead>\n",
       "    <tr style=\"text-align: right;\">\n",
       "      <th></th>\n",
       "      <th>TYPE</th>\n",
       "      <th>COUNT</th>\n",
       "    </tr>\n",
       "    <tr>\n",
       "      <th>DATE</th>\n",
       "      <th></th>\n",
       "      <th></th>\n",
       "    </tr>\n",
       "  </thead>\n",
       "  <tbody>\n",
       "    <tr>\n",
       "      <th>2012-1</th>\n",
       "      <td>Break and Enter Commercial</td>\n",
       "      <td>8</td>\n",
       "    </tr>\n",
       "    <tr>\n",
       "      <th>2012-2</th>\n",
       "      <td>Break and Enter Commercial</td>\n",
       "      <td>19</td>\n",
       "    </tr>\n",
       "    <tr>\n",
       "      <th>2012-3</th>\n",
       "      <td>Break and Enter Commercial</td>\n",
       "      <td>15</td>\n",
       "    </tr>\n",
       "    <tr>\n",
       "      <th>2012-4</th>\n",
       "      <td>Break and Enter Commercial</td>\n",
       "      <td>14</td>\n",
       "    </tr>\n",
       "    <tr>\n",
       "      <th>2012-5</th>\n",
       "      <td>Break and Enter Commercial</td>\n",
       "      <td>7</td>\n",
       "    </tr>\n",
       "  </tbody>\n",
       "</table>\n",
       "</div>"
      ],
      "text/plain": [
       "                              TYPE  COUNT\n",
       "DATE                                     \n",
       "2012-1  Break and Enter Commercial      8\n",
       "2012-2  Break and Enter Commercial     19\n",
       "2012-3  Break and Enter Commercial     15\n",
       "2012-4  Break and Enter Commercial     14\n",
       "2012-5  Break and Enter Commercial      7"
      ]
     },
     "execution_count": 16,
     "metadata": {},
     "output_type": "execute_result"
    }
   ],
   "source": [
    "# Remove unuseful columns: \"YEAR\", \"MONTH\" and \"AREA\"\n",
    "df_west = df_west.drop(columns = ['YEAR', 'MONTH', 'AREA'])   \n",
    "df_west.head()"
   ]
  },
  {
   "cell_type": "markdown",
   "id": "989e0a4c-4710-4ee3-a072-17a30a7a175d",
   "metadata": {},
   "source": [
    "Plot each crime types in west area from 2012 to 2022"
   ]
  },
  {
   "cell_type": "code",
   "execution_count": 17,
   "id": "b24a5efa-6dee-4291-a68b-6cafeee8034f",
   "metadata": {
    "tags": []
   },
   "outputs": [
    {
     "ename": "NameError",
     "evalue": "name 'cm' is not defined",
     "output_type": "error",
     "traceback": [
      "\u001b[0;31m---------------------------------------------------------------------------\u001b[0m",
      "\u001b[0;31mNameError\u001b[0m                                 Traceback (most recent call last)",
      "Cell \u001b[0;32mIn[17], line 3\u001b[0m\n\u001b[1;32m      1\u001b[0m \u001b[38;5;66;03m# Create a custom color palette\u001b[39;00m\n\u001b[1;32m      2\u001b[0m num_colors \u001b[38;5;241m=\u001b[39m \u001b[38;5;241m11\u001b[39m  \u001b[38;5;66;03m# Adjust this number based on the number of crime types\u001b[39;00m\n\u001b[0;32m----> 3\u001b[0m color_palette \u001b[38;5;241m=\u001b[39m \u001b[43mcm\u001b[49m\u001b[38;5;241m.\u001b[39mtab20\u001b[38;5;241m.\u001b[39mcolors[:num_colors]\n\u001b[1;32m      5\u001b[0m \u001b[38;5;66;03m# Create a time series plot with multiple crime types (without points)\u001b[39;00m\n\u001b[1;32m      6\u001b[0m plt\u001b[38;5;241m.\u001b[39mfigure(figsize\u001b[38;5;241m=\u001b[39m(\u001b[38;5;241m15\u001b[39m, \u001b[38;5;241m8\u001b[39m))\n",
      "\u001b[0;31mNameError\u001b[0m: name 'cm' is not defined"
     ]
    }
   ],
   "source": [
    "# Create a custom color palette\n",
    "num_colors = 11  # Adjust this number based on the number of crime types\n",
    "color_palette = cm.tab20.colors[:num_colors]\n",
    "\n",
    "# Create a time series plot with multiple crime types (without points)\n",
    "plt.figure(figsize=(15, 8))\n",
    "sns.lineplot(data=df_west, x='DATE', y='COUNT', hue='TYPE', palette=color_palette)\n",
    "\n",
    "# Set the x-axis date format and number of ticks\n",
    "ax = plt.gca()\n",
    "ax.xaxis.set_major_locator(ticker.MaxNLocator(12))\n",
    "\n",
    "plt.xlabel('Date')\n",
    "plt.ylabel('Count')\n",
    "plt.title('Time Series Plot of Different Crime Types')\n",
    "plt.legend(title='Crime Type')\n",
    "\n",
    "plt.legend(title='Crime Type', bbox_to_anchor=(1.01, 1), loc='upper left')"
   ]
  },
  {
   "cell_type": "markdown",
   "id": "a904b728-608f-4336-9a98-58600ab794e2",
   "metadata": {
    "tags": []
   },
   "source": [
    "Plot smoothed time series plot of West area"
   ]
  },
  {
   "cell_type": "code",
   "execution_count": 18,
   "id": "3b55eb5e-73ff-4270-8524-536b9392d4dd",
   "metadata": {},
   "outputs": [
    {
     "ename": "NameError",
     "evalue": "name 'color_palette' is not defined",
     "output_type": "error",
     "traceback": [
      "\u001b[0;31m---------------------------------------------------------------------------\u001b[0m",
      "\u001b[0;31mNameError\u001b[0m                                 Traceback (most recent call last)",
      "Cell \u001b[0;32mIn[18], line 7\u001b[0m\n\u001b[1;32m      5\u001b[0m \u001b[38;5;66;03m# Create a smoothed time series plot with multiple crime types (without points)\u001b[39;00m\n\u001b[1;32m      6\u001b[0m plt\u001b[38;5;241m.\u001b[39mfigure(figsize\u001b[38;5;241m=\u001b[39m(\u001b[38;5;241m15\u001b[39m, \u001b[38;5;241m8\u001b[39m))\n\u001b[0;32m----> 7\u001b[0m sns\u001b[38;5;241m.\u001b[39mlineplot(data\u001b[38;5;241m=\u001b[39mdf_west_smoothed, x\u001b[38;5;241m=\u001b[39m\u001b[38;5;124m'\u001b[39m\u001b[38;5;124mDATE\u001b[39m\u001b[38;5;124m'\u001b[39m, y\u001b[38;5;241m=\u001b[39m\u001b[38;5;124m'\u001b[39m\u001b[38;5;124mCOUNT\u001b[39m\u001b[38;5;124m'\u001b[39m, hue\u001b[38;5;241m=\u001b[39m\u001b[38;5;124m'\u001b[39m\u001b[38;5;124mTYPE\u001b[39m\u001b[38;5;124m'\u001b[39m, palette\u001b[38;5;241m=\u001b[39m\u001b[43mcolor_palette\u001b[49m, estimator\u001b[38;5;241m=\u001b[39m\u001b[38;5;124m'\u001b[39m\u001b[38;5;124mmean\u001b[39m\u001b[38;5;124m'\u001b[39m)\n\u001b[1;32m      9\u001b[0m \u001b[38;5;66;03m# Set the x-axis date format and number of ticks\u001b[39;00m\n\u001b[1;32m     10\u001b[0m ax \u001b[38;5;241m=\u001b[39m plt\u001b[38;5;241m.\u001b[39mgca()\n",
      "\u001b[0;31mNameError\u001b[0m: name 'color_palette' is not defined"
     ]
    },
    {
     "data": {
      "text/plain": [
       "<Figure size 1500x800 with 0 Axes>"
      ]
     },
     "metadata": {},
     "output_type": "display_data"
    }
   ],
   "source": [
    "# Using moving average where lag = 3\n",
    "df_west_smoothed = df_west.groupby(['TYPE']).rolling(window=3).mean()\n",
    "df_west_smoothed.reset_index(inplace=True)\n",
    "\n",
    "# Create a smoothed time series plot with multiple crime types (without points)\n",
    "plt.figure(figsize=(15, 8))\n",
    "sns.lineplot(data=df_west_smoothed, x='DATE', y='COUNT', hue='TYPE', palette=color_palette, estimator='mean')\n",
    "\n",
    "# Set the x-axis date format and number of ticks\n",
    "ax = plt.gca()\n",
    "ax.xaxis.set_major_locator(ticker.MaxNLocator(12))\n",
    "\n",
    "plt.xlabel('Date')\n",
    "plt.ylabel('Count')\n",
    "plt.title('Time Series Plot of Different Crime Types')\n",
    "plt.legend(title='Crime Type', bbox_to_anchor=(1.01, 1), loc='upper left')"
   ]
  },
  {
   "cell_type": "markdown",
   "id": "9e233efa-97b7-44c5-91d8-3116b7193767",
   "metadata": {
    "tags": []
   },
   "source": [
    "## East"
   ]
  },
  {
   "cell_type": "code",
   "execution_count": 19,
   "id": "8eee823a-db17-4004-98f2-625a9359cfc0",
   "metadata": {
    "tags": []
   },
   "outputs": [
    {
     "data": {
      "text/html": [
       "<div>\n",
       "<style scoped>\n",
       "    .dataframe tbody tr th:only-of-type {\n",
       "        vertical-align: middle;\n",
       "    }\n",
       "\n",
       "    .dataframe tbody tr th {\n",
       "        vertical-align: top;\n",
       "    }\n",
       "\n",
       "    .dataframe thead th {\n",
       "        text-align: right;\n",
       "    }\n",
       "</style>\n",
       "<table border=\"1\" class=\"dataframe\">\n",
       "  <thead>\n",
       "    <tr style=\"text-align: right;\">\n",
       "      <th></th>\n",
       "      <th>TYPE</th>\n",
       "      <th>COUNT</th>\n",
       "    </tr>\n",
       "    <tr>\n",
       "      <th>DATE</th>\n",
       "      <th></th>\n",
       "      <th></th>\n",
       "    </tr>\n",
       "  </thead>\n",
       "  <tbody>\n",
       "    <tr>\n",
       "      <th>2012-1</th>\n",
       "      <td>Break and Enter Commercial</td>\n",
       "      <td>52</td>\n",
       "    </tr>\n",
       "    <tr>\n",
       "      <th>2012-2</th>\n",
       "      <td>Break and Enter Commercial</td>\n",
       "      <td>38</td>\n",
       "    </tr>\n",
       "    <tr>\n",
       "      <th>2012-3</th>\n",
       "      <td>Break and Enter Commercial</td>\n",
       "      <td>73</td>\n",
       "    </tr>\n",
       "    <tr>\n",
       "      <th>2012-4</th>\n",
       "      <td>Break and Enter Commercial</td>\n",
       "      <td>70</td>\n",
       "    </tr>\n",
       "    <tr>\n",
       "      <th>2012-5</th>\n",
       "      <td>Break and Enter Commercial</td>\n",
       "      <td>60</td>\n",
       "    </tr>\n",
       "  </tbody>\n",
       "</table>\n",
       "</div>"
      ],
      "text/plain": [
       "                              TYPE  COUNT\n",
       "DATE                                     \n",
       "2012-1  Break and Enter Commercial     52\n",
       "2012-2  Break and Enter Commercial     38\n",
       "2012-3  Break and Enter Commercial     73\n",
       "2012-4  Break and Enter Commercial     70\n",
       "2012-5  Break and Enter Commercial     60"
      ]
     },
     "execution_count": 19,
     "metadata": {},
     "output_type": "execute_result"
    }
   ],
   "source": [
    "# Remove unuseful columns: \"YEAR\", \"MONTH\" and \"AREA\"\n",
    "df_east = df_east.drop(columns = ['YEAR', 'MONTH', 'AREA'])   \n",
    "df_east.head()"
   ]
  },
  {
   "cell_type": "markdown",
   "id": "7d91b164-50db-4040-a671-ec937e79165b",
   "metadata": {},
   "source": [
    "Plot each crime types in east area from 2012 to 2022"
   ]
  },
  {
   "cell_type": "code",
   "execution_count": 20,
   "id": "3a4fd4bc-61a4-4700-ad92-677dd2df21af",
   "metadata": {
    "tags": []
   },
   "outputs": [
    {
     "ename": "NameError",
     "evalue": "name 'color_palette' is not defined",
     "output_type": "error",
     "traceback": [
      "\u001b[0;31m---------------------------------------------------------------------------\u001b[0m",
      "\u001b[0;31mNameError\u001b[0m                                 Traceback (most recent call last)",
      "Cell \u001b[0;32mIn[20], line 3\u001b[0m\n\u001b[1;32m      1\u001b[0m \u001b[38;5;66;03m# Create a time series plot with multiple crime types (without points)\u001b[39;00m\n\u001b[1;32m      2\u001b[0m plt\u001b[38;5;241m.\u001b[39mfigure(figsize\u001b[38;5;241m=\u001b[39m(\u001b[38;5;241m15\u001b[39m, \u001b[38;5;241m8\u001b[39m))\n\u001b[0;32m----> 3\u001b[0m sns\u001b[38;5;241m.\u001b[39mlineplot(data\u001b[38;5;241m=\u001b[39mdf_east, x\u001b[38;5;241m=\u001b[39m\u001b[38;5;124m'\u001b[39m\u001b[38;5;124mDATE\u001b[39m\u001b[38;5;124m'\u001b[39m, y\u001b[38;5;241m=\u001b[39m\u001b[38;5;124m'\u001b[39m\u001b[38;5;124mCOUNT\u001b[39m\u001b[38;5;124m'\u001b[39m, hue\u001b[38;5;241m=\u001b[39m\u001b[38;5;124m'\u001b[39m\u001b[38;5;124mTYPE\u001b[39m\u001b[38;5;124m'\u001b[39m, palette\u001b[38;5;241m=\u001b[39m\u001b[43mcolor_palette\u001b[49m)\n\u001b[1;32m      5\u001b[0m \u001b[38;5;66;03m# Set the x-axis date format and number of ticks\u001b[39;00m\n\u001b[1;32m      6\u001b[0m ax \u001b[38;5;241m=\u001b[39m plt\u001b[38;5;241m.\u001b[39mgca()\n",
      "\u001b[0;31mNameError\u001b[0m: name 'color_palette' is not defined"
     ]
    },
    {
     "data": {
      "text/plain": [
       "<Figure size 1500x800 with 0 Axes>"
      ]
     },
     "metadata": {},
     "output_type": "display_data"
    }
   ],
   "source": [
    "# Create a time series plot with multiple crime types (without points)\n",
    "plt.figure(figsize=(15, 8))\n",
    "sns.lineplot(data=df_east, x='DATE', y='COUNT', hue='TYPE', palette=color_palette)\n",
    "\n",
    "# Set the x-axis date format and number of ticks\n",
    "ax = plt.gca()\n",
    "ax.xaxis.set_major_locator(ticker.MaxNLocator(12))\n",
    "\n",
    "plt.xlabel('Date')\n",
    "plt.ylabel('Count')\n",
    "plt.title('Time Series Plot of Different Crime Types')\n",
    "plt.legend(title='Crime Type')\n",
    "\n",
    "plt.legend(title='Crime Type', bbox_to_anchor=(1.01, 1), loc='upper left')"
   ]
  },
  {
   "cell_type": "markdown",
   "id": "4ea54a32-a26b-4566-9b22-ad21c900abc9",
   "metadata": {
    "tags": []
   },
   "source": [
    "Plot smoothed time series plot of East area"
   ]
  },
  {
   "cell_type": "code",
   "execution_count": 21,
   "id": "9eba607f-9089-4b39-8e10-0ceedd887a3d",
   "metadata": {
    "tags": []
   },
   "outputs": [
    {
     "ename": "NameError",
     "evalue": "name 'color_palette' is not defined",
     "output_type": "error",
     "traceback": [
      "\u001b[0;31m---------------------------------------------------------------------------\u001b[0m",
      "\u001b[0;31mNameError\u001b[0m                                 Traceback (most recent call last)",
      "Cell \u001b[0;32mIn[21], line 7\u001b[0m\n\u001b[1;32m      5\u001b[0m \u001b[38;5;66;03m# Create a smoothed time series plot with multiple crime types (without points)\u001b[39;00m\n\u001b[1;32m      6\u001b[0m plt\u001b[38;5;241m.\u001b[39mfigure(figsize\u001b[38;5;241m=\u001b[39m(\u001b[38;5;241m15\u001b[39m, \u001b[38;5;241m8\u001b[39m))\n\u001b[0;32m----> 7\u001b[0m sns\u001b[38;5;241m.\u001b[39mlineplot(data\u001b[38;5;241m=\u001b[39mdf_east_smoothed, x\u001b[38;5;241m=\u001b[39m\u001b[38;5;124m'\u001b[39m\u001b[38;5;124mDATE\u001b[39m\u001b[38;5;124m'\u001b[39m, y\u001b[38;5;241m=\u001b[39m\u001b[38;5;124m'\u001b[39m\u001b[38;5;124mCOUNT\u001b[39m\u001b[38;5;124m'\u001b[39m, hue\u001b[38;5;241m=\u001b[39m\u001b[38;5;124m'\u001b[39m\u001b[38;5;124mTYPE\u001b[39m\u001b[38;5;124m'\u001b[39m, palette\u001b[38;5;241m=\u001b[39m\u001b[43mcolor_palette\u001b[49m, estimator\u001b[38;5;241m=\u001b[39m\u001b[38;5;124m'\u001b[39m\u001b[38;5;124mmean\u001b[39m\u001b[38;5;124m'\u001b[39m)\n\u001b[1;32m      9\u001b[0m \u001b[38;5;66;03m# Set the x-axis date format and number of ticks\u001b[39;00m\n\u001b[1;32m     10\u001b[0m ax \u001b[38;5;241m=\u001b[39m plt\u001b[38;5;241m.\u001b[39mgca()\n",
      "\u001b[0;31mNameError\u001b[0m: name 'color_palette' is not defined"
     ]
    },
    {
     "data": {
      "text/plain": [
       "<Figure size 1500x800 with 0 Axes>"
      ]
     },
     "metadata": {},
     "output_type": "display_data"
    }
   ],
   "source": [
    "# Using moving average where lag = 3\n",
    "df_east_smoothed = df_east.groupby(['TYPE']).rolling(window=3).mean()\n",
    "df_east_smoothed.reset_index(inplace=True)\n",
    "\n",
    "# Create a smoothed time series plot with multiple crime types (without points)\n",
    "plt.figure(figsize=(15, 8))\n",
    "sns.lineplot(data=df_east_smoothed, x='DATE', y='COUNT', hue='TYPE', palette=color_palette, estimator='mean')\n",
    "\n",
    "# Set the x-axis date format and number of ticks\n",
    "ax = plt.gca()\n",
    "ax.xaxis.set_major_locator(ticker.MaxNLocator(12))\n",
    "\n",
    "plt.xlabel('Date')\n",
    "plt.ylabel('Count')\n",
    "plt.title('Time Series Plot of Different Crime Types')\n",
    "plt.legend(title='Crime Type', bbox_to_anchor=(1.01, 1), loc='upper left')"
   ]
  },
  {
   "cell_type": "markdown",
   "id": "74537841-5b1f-4aeb-a731-b1a36e8b61e0",
   "metadata": {
    "tags": []
   },
   "source": [
    "## Central"
   ]
  },
  {
   "cell_type": "code",
   "execution_count": 22,
   "id": "4fc5d1e6-a8a9-44a2-9f7a-27836cdd7932",
   "metadata": {
    "tags": []
   },
   "outputs": [
    {
     "data": {
      "text/html": [
       "<div>\n",
       "<style scoped>\n",
       "    .dataframe tbody tr th:only-of-type {\n",
       "        vertical-align: middle;\n",
       "    }\n",
       "\n",
       "    .dataframe tbody tr th {\n",
       "        vertical-align: top;\n",
       "    }\n",
       "\n",
       "    .dataframe thead th {\n",
       "        text-align: right;\n",
       "    }\n",
       "</style>\n",
       "<table border=\"1\" class=\"dataframe\">\n",
       "  <thead>\n",
       "    <tr style=\"text-align: right;\">\n",
       "      <th></th>\n",
       "      <th>TYPE</th>\n",
       "      <th>COUNT</th>\n",
       "    </tr>\n",
       "    <tr>\n",
       "      <th>DATE</th>\n",
       "      <th></th>\n",
       "      <th></th>\n",
       "    </tr>\n",
       "  </thead>\n",
       "  <tbody>\n",
       "    <tr>\n",
       "      <th>2012-1</th>\n",
       "      <td>Break and Enter Commercial</td>\n",
       "      <td>96</td>\n",
       "    </tr>\n",
       "    <tr>\n",
       "      <th>2012-2</th>\n",
       "      <td>Break and Enter Commercial</td>\n",
       "      <td>61</td>\n",
       "    </tr>\n",
       "    <tr>\n",
       "      <th>2012-3</th>\n",
       "      <td>Break and Enter Commercial</td>\n",
       "      <td>77</td>\n",
       "    </tr>\n",
       "    <tr>\n",
       "      <th>2012-4</th>\n",
       "      <td>Break and Enter Commercial</td>\n",
       "      <td>71</td>\n",
       "    </tr>\n",
       "    <tr>\n",
       "      <th>2012-5</th>\n",
       "      <td>Break and Enter Commercial</td>\n",
       "      <td>66</td>\n",
       "    </tr>\n",
       "  </tbody>\n",
       "</table>\n",
       "</div>"
      ],
      "text/plain": [
       "                              TYPE  COUNT\n",
       "DATE                                     \n",
       "2012-1  Break and Enter Commercial     96\n",
       "2012-2  Break and Enter Commercial     61\n",
       "2012-3  Break and Enter Commercial     77\n",
       "2012-4  Break and Enter Commercial     71\n",
       "2012-5  Break and Enter Commercial     66"
      ]
     },
     "execution_count": 22,
     "metadata": {},
     "output_type": "execute_result"
    }
   ],
   "source": [
    "# Remove unuseful columns: \"YEAR\", \"MONTH\" and \"AREA\"\n",
    "df_central = df_central.drop(columns = ['YEAR', 'MONTH', 'AREA'])   \n",
    "df_central.head()"
   ]
  },
  {
   "cell_type": "markdown",
   "id": "2be021b6-daa8-4156-a743-f2e44e6a3765",
   "metadata": {},
   "source": [
    "Plot each crime types in central area from 2012 to 2022"
   ]
  },
  {
   "cell_type": "code",
   "execution_count": 23,
   "id": "26149ca2-044f-438d-b374-8d4cb23c70ec",
   "metadata": {
    "tags": []
   },
   "outputs": [
    {
     "ename": "NameError",
     "evalue": "name 'color_palette' is not defined",
     "output_type": "error",
     "traceback": [
      "\u001b[0;31m---------------------------------------------------------------------------\u001b[0m",
      "\u001b[0;31mNameError\u001b[0m                                 Traceback (most recent call last)",
      "Cell \u001b[0;32mIn[23], line 3\u001b[0m\n\u001b[1;32m      1\u001b[0m \u001b[38;5;66;03m# Create a time series plot with multiple crime types (without points)\u001b[39;00m\n\u001b[1;32m      2\u001b[0m plt\u001b[38;5;241m.\u001b[39mfigure(figsize\u001b[38;5;241m=\u001b[39m(\u001b[38;5;241m15\u001b[39m, \u001b[38;5;241m8\u001b[39m))\n\u001b[0;32m----> 3\u001b[0m sns\u001b[38;5;241m.\u001b[39mlineplot(data\u001b[38;5;241m=\u001b[39mdf_central, x\u001b[38;5;241m=\u001b[39m\u001b[38;5;124m'\u001b[39m\u001b[38;5;124mDATE\u001b[39m\u001b[38;5;124m'\u001b[39m, y\u001b[38;5;241m=\u001b[39m\u001b[38;5;124m'\u001b[39m\u001b[38;5;124mCOUNT\u001b[39m\u001b[38;5;124m'\u001b[39m, hue\u001b[38;5;241m=\u001b[39m\u001b[38;5;124m'\u001b[39m\u001b[38;5;124mTYPE\u001b[39m\u001b[38;5;124m'\u001b[39m, palette\u001b[38;5;241m=\u001b[39m\u001b[43mcolor_palette\u001b[49m)\n\u001b[1;32m      5\u001b[0m \u001b[38;5;66;03m# Set the x-axis date format and number of ticks\u001b[39;00m\n\u001b[1;32m      6\u001b[0m ax \u001b[38;5;241m=\u001b[39m plt\u001b[38;5;241m.\u001b[39mgca()\n",
      "\u001b[0;31mNameError\u001b[0m: name 'color_palette' is not defined"
     ]
    },
    {
     "data": {
      "text/plain": [
       "<Figure size 1500x800 with 0 Axes>"
      ]
     },
     "metadata": {},
     "output_type": "display_data"
    }
   ],
   "source": [
    "# Create a time series plot with multiple crime types (without points)\n",
    "plt.figure(figsize=(15, 8))\n",
    "sns.lineplot(data=df_central, x='DATE', y='COUNT', hue='TYPE', palette=color_palette)\n",
    "\n",
    "# Set the x-axis date format and number of ticks\n",
    "ax = plt.gca()\n",
    "ax.xaxis.set_major_locator(ticker.MaxNLocator(12))\n",
    "\n",
    "plt.xlabel('Date')\n",
    "plt.ylabel('Count')\n",
    "plt.title('Time Series Plot of Different Crime Types')\n",
    "plt.legend(title='Crime Type')\n",
    "\n",
    "plt.legend(title='Crime Type', bbox_to_anchor=(1.01, 1), loc='upper left')"
   ]
  },
  {
   "cell_type": "markdown",
   "id": "e828e983-d25c-48d5-b65a-6296f2698d75",
   "metadata": {},
   "source": [
    "Plot smoothed time series plot of East area"
   ]
  },
  {
   "cell_type": "code",
   "execution_count": 24,
   "id": "253b339c-17c6-4e87-9129-6bc3e7aa74a1",
   "metadata": {
    "tags": []
   },
   "outputs": [
    {
     "ename": "NameError",
     "evalue": "name 'color_palette' is not defined",
     "output_type": "error",
     "traceback": [
      "\u001b[0;31m---------------------------------------------------------------------------\u001b[0m",
      "\u001b[0;31mNameError\u001b[0m                                 Traceback (most recent call last)",
      "Cell \u001b[0;32mIn[24], line 7\u001b[0m\n\u001b[1;32m      5\u001b[0m \u001b[38;5;66;03m# Create a smoothed time series plot with multiple crime types (without points)\u001b[39;00m\n\u001b[1;32m      6\u001b[0m plt\u001b[38;5;241m.\u001b[39mfigure(figsize\u001b[38;5;241m=\u001b[39m(\u001b[38;5;241m15\u001b[39m, \u001b[38;5;241m8\u001b[39m))\n\u001b[0;32m----> 7\u001b[0m sns\u001b[38;5;241m.\u001b[39mlineplot(data\u001b[38;5;241m=\u001b[39mdf_central_smoothed, x\u001b[38;5;241m=\u001b[39m\u001b[38;5;124m'\u001b[39m\u001b[38;5;124mDATE\u001b[39m\u001b[38;5;124m'\u001b[39m, y\u001b[38;5;241m=\u001b[39m\u001b[38;5;124m'\u001b[39m\u001b[38;5;124mCOUNT\u001b[39m\u001b[38;5;124m'\u001b[39m, hue\u001b[38;5;241m=\u001b[39m\u001b[38;5;124m'\u001b[39m\u001b[38;5;124mTYPE\u001b[39m\u001b[38;5;124m'\u001b[39m, palette\u001b[38;5;241m=\u001b[39m\u001b[43mcolor_palette\u001b[49m, estimator\u001b[38;5;241m=\u001b[39m\u001b[38;5;124m'\u001b[39m\u001b[38;5;124mmean\u001b[39m\u001b[38;5;124m'\u001b[39m)\n\u001b[1;32m      9\u001b[0m \u001b[38;5;66;03m# Set the x-axis date format and number of ticks\u001b[39;00m\n\u001b[1;32m     10\u001b[0m ax \u001b[38;5;241m=\u001b[39m plt\u001b[38;5;241m.\u001b[39mgca()\n",
      "\u001b[0;31mNameError\u001b[0m: name 'color_palette' is not defined"
     ]
    },
    {
     "data": {
      "text/plain": [
       "<Figure size 1500x800 with 0 Axes>"
      ]
     },
     "metadata": {},
     "output_type": "display_data"
    }
   ],
   "source": [
    "# Using moving average where lag = 3\n",
    "df_central_smoothed = df_central.groupby(['TYPE']).rolling(window=3).mean()\n",
    "df_central_smoothed.reset_index(inplace=True)\n",
    "\n",
    "# Create a smoothed time series plot with multiple crime types (without points)\n",
    "plt.figure(figsize=(15, 8))\n",
    "sns.lineplot(data=df_central_smoothed, x='DATE', y='COUNT', hue='TYPE', palette=color_palette, estimator='mean')\n",
    "\n",
    "# Set the x-axis date format and number of ticks\n",
    "ax = plt.gca()\n",
    "ax.xaxis.set_major_locator(ticker.MaxNLocator(12))\n",
    "\n",
    "plt.xlabel('Date')\n",
    "plt.ylabel('Count')\n",
    "plt.title('Time Series Plot of Different Crime Types')\n",
    "plt.legend(title='Crime Type', bbox_to_anchor=(1.01, 1), loc='upper left')"
   ]
  },
  {
   "cell_type": "markdown",
   "id": "90b3945e-26f2-4c0d-bb02-f2e5c70bb6fb",
   "metadata": {},
   "source": [
    "### 4.  Exploratory Data Analysis:"
   ]
  },
  {
   "cell_type": "markdown",
   "id": "3f793e9b-7e49-4fe6-b76f-765e975d3a8d",
   "metadata": {},
   "source": [
    "#### A) Summary View"
   ]
  },
  {
   "cell_type": "code",
   "execution_count": 25,
   "id": "67a301f4-e8bd-41e3-a501-8e6ede4f0b10",
   "metadata": {
    "tags": []
   },
   "outputs": [
    {
     "data": {
      "text/html": [
       "<div>\n",
       "<style scoped>\n",
       "    .dataframe tbody tr th:only-of-type {\n",
       "        vertical-align: middle;\n",
       "    }\n",
       "\n",
       "    .dataframe tbody tr th {\n",
       "        vertical-align: top;\n",
       "    }\n",
       "\n",
       "    .dataframe thead th {\n",
       "        text-align: right;\n",
       "    }\n",
       "</style>\n",
       "<table border=\"1\" class=\"dataframe\">\n",
       "  <thead>\n",
       "    <tr style=\"text-align: right;\">\n",
       "      <th></th>\n",
       "      <th>YEAR</th>\n",
       "      <th>MONTH</th>\n",
       "      <th>LATITUDE</th>\n",
       "      <th>LONGITUDE</th>\n",
       "    </tr>\n",
       "  </thead>\n",
       "  <tbody>\n",
       "    <tr>\n",
       "      <th>count</th>\n",
       "      <td>857104.000000</td>\n",
       "      <td>857104.000000</td>\n",
       "      <td>857104.000000</td>\n",
       "      <td>857104.000000</td>\n",
       "    </tr>\n",
       "    <tr>\n",
       "      <th>mean</th>\n",
       "      <td>2011.982275</td>\n",
       "      <td>6.499985</td>\n",
       "      <td>44.973411</td>\n",
       "      <td>-123.488727</td>\n",
       "    </tr>\n",
       "    <tr>\n",
       "      <th>std</th>\n",
       "      <td>6.010221</td>\n",
       "      <td>3.418684</td>\n",
       "      <td>13.891478</td>\n",
       "      <td>1.236014</td>\n",
       "    </tr>\n",
       "    <tr>\n",
       "      <th>min</th>\n",
       "      <td>2003.000000</td>\n",
       "      <td>1.000000</td>\n",
       "      <td>0.000000</td>\n",
       "      <td>-127.488744</td>\n",
       "    </tr>\n",
       "    <tr>\n",
       "      <th>25%</th>\n",
       "      <td>2006.000000</td>\n",
       "      <td>4.000000</td>\n",
       "      <td>49.240650</td>\n",
       "      <td>-123.134873</td>\n",
       "    </tr>\n",
       "    <tr>\n",
       "      <th>50%</th>\n",
       "      <td>2012.000000</td>\n",
       "      <td>7.000000</td>\n",
       "      <td>49.267138</td>\n",
       "      <td>-123.115943</td>\n",
       "    </tr>\n",
       "    <tr>\n",
       "      <th>75%</th>\n",
       "      <td>2017.000000</td>\n",
       "      <td>9.000000</td>\n",
       "      <td>49.281197</td>\n",
       "      <td>-123.090920</td>\n",
       "    </tr>\n",
       "    <tr>\n",
       "      <th>max</th>\n",
       "      <td>2023.000000</td>\n",
       "      <td>12.000000</td>\n",
       "      <td>49.313349</td>\n",
       "      <td>-123.022987</td>\n",
       "    </tr>\n",
       "  </tbody>\n",
       "</table>\n",
       "</div>"
      ],
      "text/plain": [
       "                YEAR          MONTH       LATITUDE      LONGITUDE\n",
       "count  857104.000000  857104.000000  857104.000000  857104.000000\n",
       "mean     2011.982275       6.499985      44.973411    -123.488727\n",
       "std         6.010221       3.418684      13.891478       1.236014\n",
       "min      2003.000000       1.000000       0.000000    -127.488744\n",
       "25%      2006.000000       4.000000      49.240650    -123.134873\n",
       "50%      2012.000000       7.000000      49.267138    -123.115943\n",
       "75%      2017.000000       9.000000      49.281197    -123.090920\n",
       "max      2023.000000      12.000000      49.313349    -123.022987"
      ]
     },
     "execution_count": 25,
     "metadata": {},
     "output_type": "execute_result"
    }
   ],
   "source": [
    "# Summary table of dataset\n",
    "df.describe()"
   ]
  },
  {
   "cell_type": "markdown",
   "id": "877e9570-da4a-4da2-b416-a9ce022e162a",
   "metadata": {},
   "source": [
    "viz:\n",
    "bar chart - count / percentage of crime\n",
    "\n",
    "map - number of crime in map\n",
    "\n",
    "pie - type of crime in each area\n",
    "\n",
    "line graphs - count of crime in different years for each area\n",
    "\n",
    "pivot table - Which months have the highest and lowest average number crimes?\\\n",
    "\n",
    "heat map  - Trend within the year? - heatmap with months and categories "
   ]
  },
  {
   "cell_type": "markdown",
   "id": "08861a9e-0873-4b1e-b835-894555c5412a",
   "metadata": {},
   "source": [
    "### 5. Empirical Analysis"
   ]
  },
  {
   "cell_type": "markdown",
   "id": "9bd39603-ae09-4196-a0f8-22090620f168",
   "metadata": {},
   "source": [
    "### 6. Conclusion"
   ]
  },
  {
   "cell_type": "markdown",
   "id": "4765cd80-b521-4247-a596-5c522a470974",
   "metadata": {},
   "source": [
    "### 7. Limitation"
   ]
  },
  {
   "cell_type": "markdown",
   "id": "a630aff6-0955-4fda-b11f-3a5c7de0c2e6",
   "metadata": {},
   "source": [
    "### 8. Area for Further Reserch"
   ]
  },
  {
   "cell_type": "markdown",
   "id": "d0a1a458-be66-48d9-ac41-44d46e855da6",
   "metadata": {},
   "source": [
    "### 9. References"
   ]
  }
 ],
 "metadata": {
  "kernelspec": {
   "display_name": "Python 3 (ipykernel)",
   "language": "python",
   "name": "python3"
  },
  "language_info": {
   "codemirror_mode": {
    "name": "ipython",
    "version": 3
   },
   "file_extension": ".py",
   "mimetype": "text/x-python",
   "name": "python",
   "nbconvert_exporter": "python",
   "pygments_lexer": "ipython3",
   "version": "3.10.9"
  }
 },
 "nbformat": 4,
 "nbformat_minor": 5
}
